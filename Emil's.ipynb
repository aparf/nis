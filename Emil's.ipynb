{
  "cells": [
    {
      "cell_type": "code",
      "execution_count": null,
      "id": "36bbb8d6",
      "metadata": {
        "colab": {
          "base_uri": "https://localhost:8080/"
        },
        "id": "36bbb8d6",
        "outputId": "84663d1b-1404-4705-f6b5-755c4337cb1f"
      },
      "outputs": [
        {
          "output_type": "stream",
          "name": "stdout",
          "text": [
            "Looking in indexes: https://pypi.org/simple, https://us-python.pkg.dev/colab-wheels/public/simple/\n",
            "Requirement already satisfied: h5py in /usr/local/lib/python3.7/dist-packages (3.1.0)\n",
            "Requirement already satisfied: cached-property in /usr/local/lib/python3.7/dist-packages (from h5py) (1.5.2)\n",
            "Requirement already satisfied: numpy>=1.14.5 in /usr/local/lib/python3.7/dist-packages (from h5py) (1.21.6)\n"
          ]
        }
      ],
      "source": [
        "!pip install h5py"
      ]
    },
    {
      "cell_type": "code",
      "execution_count": null,
      "id": "c3a244a8",
      "metadata": {
        "colab": {
          "base_uri": "https://localhost:8080/"
        },
        "id": "c3a244a8",
        "outputId": "de314956-eb75-45a1-c67a-f505a18a50a1"
      },
      "outputs": [
        {
          "output_type": "stream",
          "name": "stdout",
          "text": [
            "NVIDIA-SMI has failed because it couldn't communicate with the NVIDIA driver. Make sure that the latest NVIDIA driver is installed and running.\n",
            "\n"
          ]
        }
      ],
      "source": [
        "import torch\n",
        "device = torch.device('cuda' if torch.cuda.is_available() else 'cpu')\n",
        "!nvidia-smi"
      ]
    },
    {
      "cell_type": "code",
      "source": [
        "from google.colab import drive\n",
        "import time, math, copy\n",
        "from tqdm import tqdm\n",
        "drive.mount('/content/gdrive')"
      ],
      "metadata": {
        "colab": {
          "base_uri": "https://localhost:8080/"
        },
        "id": "uZC63Lf4dhjv",
        "outputId": "b2dc0944-5aba-4e29-cdb0-32fe770eb7c8"
      },
      "id": "uZC63Lf4dhjv",
      "execution_count": null,
      "outputs": [
        {
          "output_type": "stream",
          "name": "stdout",
          "text": [
            "Drive already mounted at /content/gdrive; to attempt to forcibly remount, call drive.mount(\"/content/gdrive\", force_remount=True).\n"
          ]
        }
      ]
    },
    {
      "cell_type": "code",
      "execution_count": null,
      "id": "dd1cc6c0",
      "metadata": {
        "id": "dd1cc6c0"
      },
      "outputs": [],
      "source": [
        "import h5py\n",
        "import numpy as np"
      ]
    },
    {
      "cell_type": "code",
      "execution_count": null,
      "id": "c49d1bdc",
      "metadata": {
        "id": "c49d1bdc"
      },
      "outputs": [],
      "source": [
        "f = h5py.File(\"/content/gdrive/MyDrive/gamma.hdf5\", 'r') "
      ]
    },
    {
      "cell_type": "code",
      "source": [
        "#plt.hist(energy, bins='auto')"
      ],
      "metadata": {
        "id": "nEAkp8nLqbyI"
      },
      "id": "nEAkp8nLqbyI",
      "execution_count": null,
      "outputs": []
    },
    {
      "cell_type": "code",
      "execution_count": null,
      "id": "ca48baa5",
      "metadata": {
        "id": "ca48baa5"
      },
      "outputs": [],
      "source": [
        "with h5py.File(\"/content/gdrive/MyDrive/gamma.hdf5\", 'r') as f:\n",
        "   energy = f['energy'][:]\n",
        "   layer_0 = f['layer_0'][:]\n",
        "   layer_1 = f['layer_1'][:]\n",
        "   layer_2 = f['layer_2'][:]\n",
        "   overflow = f['overflow'][:]"
      ]
    },
    {
      "cell_type": "code",
      "execution_count": null,
      "id": "79729d3e",
      "metadata": {
        "id": "79729d3e"
      },
      "outputs": [],
      "source": [
        "f = h5py.File(\"/content/gdrive/MyDrive/eplus.hdf5\", 'r') "
      ]
    },
    {
      "cell_type": "code",
      "execution_count": null,
      "id": "fc509207",
      "metadata": {
        "id": "fc509207"
      },
      "outputs": [],
      "source": [
        "with h5py.File(\"/content/gdrive/MyDrive/eplus.hdf5\", 'r') as f:\n",
        "   energy_ep = f['energy'][:]\n",
        "   layer_0_ep = f['layer_0'][:]\n",
        "   layer_1_ep = f['layer_1'][:]\n",
        "   layer_2_ep = f['layer_2'][:]\n",
        "   overflow_ep = f['overflow'][:]"
      ]
    },
    {
      "cell_type": "code",
      "execution_count": null,
      "id": "dd5c0a6a",
      "metadata": {
        "id": "dd5c0a6a"
      },
      "outputs": [],
      "source": [
        "import os\n",
        "import pandas as pd\n",
        "from torch.utils.data import Dataset, Subset\n",
        "\n",
        "class CustomImageDataset(Dataset):\n",
        "    def __init__(self, labels, layer_0, layer_1,layer_02):\n",
        "        self.labels = labels\n",
        "        self.layer_0 = layer_0 \n",
        "        self.layer_1 = layer_1\n",
        "        self.layer_2 = layer_2\n",
        "        \n",
        "    def __len__(self):\n",
        "        return len(self.labels)\n",
        "    \n",
        "    def __getitem__(self, idx):\n",
        "        image1 = layer_0[idx]\n",
        "        image2 = layer_1[idx]\n",
        "        image3 = layer_2[idx]\n",
        "        label = self.labels[idx]\n",
        "        return (image1,image2,image3), label"
      ]
    },
    {
      "cell_type": "code",
      "execution_count": null,
      "id": "d3486423",
      "metadata": {
        "id": "d3486423"
      },
      "outputs": [],
      "source": [
        "dataset_gamma = CustomImageDataset(np.ones(100000),layer_0,layer_1,layer_2)\n",
        "dataset_ep = CustomImageDataset(np.zeros(100000),layer_0_ep,layer_1_ep,layer_2_ep)\n",
        "total_data = torch.utils.data.ConcatDataset([dataset_gamma, dataset_ep])"
      ]
    },
    {
      "cell_type": "code",
      "execution_count": null,
      "id": "7862fc72",
      "metadata": {
        "id": "7862fc72"
      },
      "outputs": [],
      "source": [
        "N = len(total_data)\n",
        "\n",
        "# generate & shuffle indices\n",
        "indices = np.arange(N)\n",
        "indices = np.random.permutation(indices)\n",
        "# there are many ways to do the above two operation. (Example, using np.random.choice can be used here too\n",
        "\n",
        "# select train/test/val, for demo I am using 70,15,15\n",
        "train_indices = indices [:int(0.7*N)]\n",
        "val_indices = indices[int(0.7*N):int(0.85*N)]\n",
        "test_indices = indices[int(0.85*N):]\n",
        "\n",
        "train_dataset = Subset(total_data, train_indices)\n",
        "val_dataset = Subset(total_data, val_indices)\n",
        "test_dataset = Subset(total_data, test_indices)"
      ]
    },
    {
      "cell_type": "code",
      "source": [],
      "metadata": {
        "id": "-lxMNMqhL_D0"
      },
      "id": "-lxMNMqhL_D0",
      "execution_count": null,
      "outputs": []
    },
    {
      "cell_type": "code",
      "execution_count": null,
      "id": "ae5b980a",
      "metadata": {
        "id": "ae5b980a"
      },
      "outputs": [],
      "source": [
        "import torch \n",
        "from torch import nn\n"
      ]
    },
    {
      "cell_type": "code",
      "execution_count": null,
      "id": "139d8fba",
      "metadata": {
        "id": "139d8fba"
      },
      "outputs": [],
      "source": [
        "def conv_block(input_size, output_size, kernel_size):\n",
        "    block = nn.Sequential(\n",
        "        nn.Conv2d(input_size, output_size, kernel_size), nn.ReLU(), nn.BatchNorm2d(output_size), nn.MaxPool2d((1, 2)),\n",
        "    )\n",
        "\n",
        "    return block"
      ]
    },
    {
      "cell_type": "code",
      "execution_count": null,
      "id": "f032bfb0",
      "metadata": {
        "id": "f032bfb0"
      },
      "outputs": [],
      "source": [
        "class network(nn.Module):\n",
        "    \n",
        "    def __init__(self,):\n",
        "        super().__init__()\n",
        "        \n",
        "        self.input1 = conv_block(1,3,(1,3))\n",
        "        self.input12 =  conv_block(3, 3, (3, 3))\n",
        "        self.input2 = conv_block(1,3,(3, 3))\n",
        "        self.input22 = conv_block(3,3,(3, 3))\n",
        "        self.input3 = nn.Linear(12*6,10)\n",
        "        \n",
        "        \n",
        "        self.bn1 = nn.BatchNorm1d(66)\n",
        "        self.bn2 = nn.BatchNorm1d(24)\n",
        "        self.bn3 = nn.BatchNorm1d(10)\n",
        "        \n",
        "        self.lin1 = nn.Linear(100,40)\n",
        "        self.lin15 = nn.Linear(40,20)\n",
        "        self.lin2 = nn.Linear(20,1)\n",
        "        \n",
        "        self.drop1 = nn.Dropout(p=0.2)\n",
        "        self.drop2 = nn.Dropout(p=0.2)\n",
        "        self.drop3 = nn.Dropout(p=0.2)\n",
        "\n",
        "        self.activ = nn.ReLU()\n",
        "        \n",
        "    def forward(self,x,y,z):\n",
        "        x = self.input1(x.reshape([16,1, 3, 96]).float())\n",
        "        #print(x.shape)\n",
        "        x = self.input12(x).flatten(start_dim=1)\n",
        "\n",
        "        y = self.input2(y.reshape([16, 1, 12, 12]).float())\n",
        "        y = self.input22(y)\n",
        "\n",
        "        y = y.flatten(start_dim=1)\n",
        "  \n",
        "        z = self.activ(self.input3(z.flatten(start_dim=1)))\n",
        "        \n",
        "        h = torch.cat((self.drop1(self.bn1(x)), self.drop2(self.bn2(y)), self.drop3(self.bn3(z))),axis=1)\n",
        "        \n",
        "        h = self.activ(self.lin1(h))\n",
        "        h =  self.activ(self.lin15(h))\n",
        "        h = self.lin2(h)\n",
        "        \n",
        "        return h"
      ]
    },
    {
      "cell_type": "code",
      "execution_count": null,
      "id": "b10414e9",
      "metadata": {
        "id": "b10414e9"
      },
      "outputs": [],
      "source": [
        "heh = network().to(device)"
      ]
    },
    {
      "cell_type": "code",
      "execution_count": null,
      "id": "1be2ee2e",
      "metadata": {
        "id": "1be2ee2e"
      },
      "outputs": [],
      "source": [
        "from torch.utils.data import DataLoader"
      ]
    },
    {
      "cell_type": "code",
      "execution_count": null,
      "id": "bd8351c4",
      "metadata": {
        "id": "bd8351c4"
      },
      "outputs": [],
      "source": [
        "dataloaders = {'train':DataLoader(train_dataset, batch_size=16),'val':DataLoader(val_dataset, batch_size=16), 'test':DataLoader(test_dataset, batch_size=16)}"
      ]
    },
    {
      "cell_type": "code",
      "execution_count": null,
      "id": "fb16efba",
      "metadata": {
        "id": "fb16efba"
      },
      "outputs": [],
      "source": [
        "loss_fn = loss = nn.BCEWithLogitsLoss()"
      ]
    },
    {
      "cell_type": "code",
      "execution_count": null,
      "id": "a493f112",
      "metadata": {
        "id": "a493f112"
      },
      "outputs": [],
      "source": [
        "optimizer = torch.optim.SGD(heh.parameters(), lr=0.4)"
      ]
    },
    {
      "cell_type": "code",
      "execution_count": null,
      "id": "9a25a946",
      "metadata": {
        "id": "9a25a946"
      },
      "outputs": [],
      "source": [
        "def train_one_epoch(epoch_index):\n",
        "    running_loss = 0.\n",
        "    last_loss = 0.\n",
        "\n",
        "    # Here, we use enumerate(training_loader) instead of\n",
        "    # iter(training_loader) so that we can track the batch\n",
        "    # index and do some intra-epoch reporting\n",
        "    for i, (data,labels) in enumerate(dataloaders['train']):\n",
        "        # Every data instance is an input + label pair\n",
        "        data0,data1,data2 = data\n",
        "        data0,data1,data2 = data0.to(device),data1.to(device),data2.to(device)\n",
        "       # print(torch.bincount(labels.type(torch.int)))\n",
        "        labels = labels.to(device)\n",
        "        # Zero your gradients for every batch!\n",
        "        optimizer.zero_grad()\n",
        "\n",
        "        # Make predictions for this batch\n",
        "        outputs = heh(data0.float(),data1.float(),data2.float())\n",
        "\n",
        "        # Compute the loss and its gradients\n",
        "        loss = loss_fn(outputs.float().squeeze(), labels.float())\n",
        "        loss.backward()\n",
        "\n",
        "        # Adjust learning weights\n",
        "        optimizer.step()\n",
        "\n",
        "        # Gather data and report\n",
        "        running_loss += loss.item()\n",
        "        if i % 1000 == 999:\n",
        "            last_loss = running_loss / 1000 # loss per batch\n",
        "            print('  batch {} loss: {}'.format(i + 1, last_loss))\n",
        "            tb_x = epoch_index * len(dataloaders['train']) + i + 1\n",
        "            running_loss = 0.\n",
        "\n",
        "    return last_loss"
      ]
    },
    {
      "cell_type": "code",
      "execution_count": null,
      "id": "05a3136a",
      "metadata": {
        "id": "05a3136a"
      },
      "outputs": [],
      "source": [
        "train_loss = []\n",
        "val_loss = []"
      ]
    },
    {
      "cell_type": "code",
      "execution_count": null,
      "id": "5e6457c7",
      "metadata": {
        "colab": {
          "base_uri": "https://localhost:8080/"
        },
        "id": "5e6457c7",
        "outputId": "8fa3fc78-6987-45fb-c261-b04fc11f7d4c"
      },
      "outputs": [
        {
          "output_type": "stream",
          "name": "stdout",
          "text": [
            "EPOCH 1:\n",
            "  batch 1000 loss: 0.6953238577246666\n",
            "  batch 2000 loss: 0.6946346848011017\n",
            "  batch 3000 loss: 0.6949235211014748\n",
            "  batch 4000 loss: 0.6950234887599945\n",
            "  batch 5000 loss: 0.695378478884697\n",
            "  batch 6000 loss: 0.6946329537034035\n",
            "  batch 7000 loss: 0.694698725938797\n",
            "  batch 8000 loss: 0.6948249584436417\n",
            "LOSS train 0.6948249584436417 valid 0.6931475988490663\n",
            "EPOCH 2:\n",
            "  batch 1000 loss: 0.6948966245651245\n",
            "  batch 2000 loss: 0.6945847621560097\n",
            "  batch 3000 loss: 0.6948951486349105\n",
            "  batch 4000 loss: 0.6949359941482544\n",
            "  batch 5000 loss: 0.6953784912824631\n",
            "  batch 6000 loss: 0.6946191759109497\n",
            "  batch 7000 loss: 0.6947209784984588\n",
            "  batch 8000 loss: 0.6948261606097221\n",
            "LOSS train 0.6948261606097221 valid 0.6931565049224223\n",
            "EPOCH 3:\n",
            "  batch 1000 loss: 0.6948967332839966\n",
            "  batch 2000 loss: 0.6945813648104667\n",
            "  batch 3000 loss: 0.6948873528838158\n",
            "  batch 4000 loss: 0.6949934104084968\n",
            "  batch 5000 loss: 0.6953602090477944\n",
            "  batch 6000 loss: 0.6945862766504288\n",
            "  batch 7000 loss: 0.6947143570184707\n",
            "  batch 8000 loss: 0.6948287004828453\n",
            "LOSS train 0.6948287004828453 valid 0.6931626004104968\n",
            "EPOCH 4:\n",
            "  batch 1000 loss: 0.6948935967683793\n",
            "  batch 2000 loss: 0.6945842573046684\n",
            "  batch 3000 loss: 0.6948909862041474\n",
            "  batch 4000 loss: 0.6949976463317871\n",
            "  batch 5000 loss: 0.6953579733967781\n",
            "  batch 6000 loss: 0.6946130528450012\n",
            "  batch 7000 loss: 0.6947011194825172\n",
            "  batch 8000 loss: 0.6948271749615669\n",
            "LOSS train 0.6948271749615669 valid 0.6931670232822033\n",
            "EPOCH 5:\n",
            "  batch 1000 loss: 0.6948759568333626\n",
            "  batch 2000 loss: 0.6945780524015427\n",
            "  batch 3000 loss: 0.6948960111737251\n",
            "  batch 4000 loss: 0.6949942400455474\n",
            "  batch 5000 loss: 0.6953523740172386\n",
            "  batch 6000 loss: 0.6946034318208695\n",
            "  batch 7000 loss: 0.6947105882167817\n",
            "  batch 8000 loss: 0.6948278671503068\n",
            "LOSS train 0.6948278671503068 valid 0.6931637916069633\n",
            "EPOCH 6:\n",
            "  batch 1000 loss: 0.6948964438438415\n",
            "  batch 2000 loss: 0.694580262362957\n",
            "  batch 3000 loss: 0.6948883544802665\n",
            "  batch 4000 loss: 0.694994932949543\n",
            "  batch 5000 loss: 0.6953573336005211\n",
            "  batch 6000 loss: 0.6946001075506211\n",
            "  batch 7000 loss: 0.6946893745660782\n",
            "  batch 8000 loss: 0.6948174953460693\n",
            "LOSS train 0.6948174953460693 valid 0.6931533642854386\n",
            "EPOCH 7:\n",
            "  batch 1000 loss: 0.6948950229883194\n",
            "  batch 2000 loss: 0.6945602549910546\n",
            "  batch 3000 loss: 0.6949409788250923\n",
            "  batch 4000 loss: 0.6949991660118103\n",
            "  batch 5000 loss: 0.6953694786429405\n",
            "  batch 6000 loss: 0.6946220497488975\n",
            "  batch 7000 loss: 0.6947123759388923\n",
            "  batch 8000 loss: 0.6948345820307732\n",
            "LOSS train 0.6948345820307732 valid 0.6931523203049554\n",
            "EPOCH 8:\n",
            "  batch 1000 loss: 0.6948992893099785\n",
            "  batch 2000 loss: 0.694585057258606\n",
            "  batch 3000 loss: 0.694890742778778\n",
            "  batch 4000 loss: 0.694977852165699\n",
            "  batch 5000 loss: 0.6953552957177163\n",
            "  batch 6000 loss: 0.6946222701072693\n",
            "  batch 7000 loss: 0.6946987746357918\n",
            "  batch 8000 loss: 0.6948112474679947\n",
            "LOSS train 0.6948112474679947 valid 0.6931506087887683\n",
            "EPOCH 9:\n",
            "  batch 1000 loss: 0.6948959559202195\n",
            "  batch 2000 loss: 0.6945740352869034\n",
            "  batch 3000 loss: 0.6948880521655083\n",
            "  batch 4000 loss: 0.6949912761449814\n",
            "  batch 5000 loss: 0.6953588602542877\n",
            "  batch 6000 loss: 0.6946060217618942\n",
            "  batch 7000 loss: 0.6946998824477195\n",
            "  batch 8000 loss: 0.6948031609654427\n",
            "LOSS train 0.6948031609654427 valid 0.6931640446412921\n",
            "EPOCH 10:\n",
            "  batch 1000 loss: 0.694893540084362\n",
            "  batch 2000 loss: 0.6945641919374466\n",
            "  batch 3000 loss: 0.6949046523571014\n",
            "  batch 4000 loss: 0.6949947954416275\n",
            "  batch 5000 loss: 0.6953617377281189\n",
            "  batch 6000 loss: 0.694601921916008\n",
            "  batch 7000 loss: 0.6947054866552352\n",
            "  batch 8000 loss: 0.6948125435113907\n",
            "LOSS train 0.6948125435113907 valid 0.6931526752861837\n",
            "EPOCH 11:\n",
            "  batch 1000 loss: 0.6948847447633744\n",
            "  batch 2000 loss: 0.6945708709955215\n",
            "  batch 3000 loss: 0.6948854714632035\n",
            "  batch 4000 loss: 0.6949951975941658\n",
            "  batch 5000 loss: 0.6953593322634697\n",
            "  batch 6000 loss: 0.6946054560542106\n",
            "  batch 7000 loss: 0.6947021909356117\n",
            "  batch 8000 loss: 0.6948152198195457\n",
            "LOSS train 0.6948152198195457 valid 0.6931531940843677\n",
            "EPOCH 12:\n",
            "  batch 1000 loss: 0.6948861628770828\n",
            "  batch 2000 loss: 0.6945584919452668\n",
            "  batch 3000 loss: 0.6948979738950729\n",
            "  batch 4000 loss: 0.6949735718965531\n",
            "  batch 5000 loss: 0.6953199385404587\n",
            "  batch 6000 loss: 0.694632827937603\n",
            "  batch 7000 loss: 0.6947135420441628\n",
            "  batch 8000 loss: 0.6948260987401008\n",
            "LOSS train 0.6948260987401008 valid 0.6931928984785763\n",
            "EPOCH 13:\n",
            "  batch 1000 loss: 0.6949349816441536\n",
            "  batch 2000 loss: 0.6945819063186646\n",
            "  batch 3000 loss: 0.6948912394046783\n",
            "  batch 4000 loss: 0.6950011803507805\n",
            "  batch 5000 loss: 0.6952988144755363\n",
            "  batch 6000 loss: 0.694616333603859\n",
            "  batch 7000 loss: 0.6947091118693351\n",
            "  batch 8000 loss: 0.6948213906884193\n",
            "LOSS train 0.6948213906884193 valid 0.6931545763131387\n",
            "EPOCH 14:\n",
            "  batch 1000 loss: 0.694879598736763\n",
            "  batch 2000 loss: 0.6945864776968956\n",
            "  batch 3000 loss: 0.6948880502581596\n",
            "  batch 4000 loss: 0.6949925629496574\n",
            "  batch 5000 loss: 0.6953620219826698\n",
            "  batch 6000 loss: 0.6946025223135949\n",
            "  batch 7000 loss: 0.6946944192051887\n",
            "  batch 8000 loss: 0.6948211064338684\n",
            "LOSS train 0.6948211064338684 valid 0.6931696566947115\n",
            "EPOCH 15:\n",
            "  batch 1000 loss: 0.6948937972784043\n",
            "  batch 2000 loss: 0.6945520609617233\n",
            "  batch 3000 loss: 0.694910029232502\n",
            "  batch 4000 loss: 0.6949754205346107\n",
            "  batch 5000 loss: 0.6953665643930436\n",
            "  batch 6000 loss: 0.6945964117646217\n",
            "  batch 7000 loss: 0.6947035034298896\n",
            "  batch 8000 loss: 0.6948300989866256\n",
            "LOSS train 0.6948300989866256 valid 0.6931601832774236\n",
            "EPOCH 16:\n",
            "  batch 1000 loss: 0.6948825005888939\n",
            "  batch 2000 loss: 0.6945625067353248\n",
            "  batch 3000 loss: 0.6949041246175766\n",
            "  batch 4000 loss: 0.6949919508099556\n",
            "  batch 5000 loss: 0.6953455931544303\n",
            "  batch 6000 loss: 0.6945851525068283\n",
            "  batch 7000 loss: 0.6947211772799492\n",
            "  batch 8000 loss: 0.6948260319828987\n",
            "LOSS train 0.6948260319828987 valid 0.6931666732937641\n",
            "EPOCH 17:\n",
            "  batch 1000 loss: 0.6948912680149079\n",
            "  batch 2000 loss: 0.6945736834406853\n",
            "  batch 3000 loss: 0.6948740741610527\n",
            "  batch 4000 loss: 0.6949902737736702\n",
            "  batch 5000 loss: 0.6953782216310501\n",
            "  batch 6000 loss: 0.6946047389507294\n",
            "  batch 7000 loss: 0.6946837273836136\n",
            "  batch 8000 loss: 0.6948571202158927\n",
            "LOSS train 0.6948571202158927 valid 0.6931923200334422\n",
            "EPOCH 18:\n",
            "  batch 1000 loss: 0.6949029513001442\n",
            "  batch 2000 loss: 0.6945809826850892\n",
            "  batch 3000 loss: 0.6948917576670647\n",
            "  batch 4000 loss: 0.695002013683319\n",
            "  batch 5000 loss: 0.6953520413041114\n",
            "  batch 6000 loss: 0.6945933988094329\n",
            "  batch 7000 loss: 0.6946673622727394\n",
            "  batch 8000 loss: 0.6948417640924454\n",
            "LOSS train 0.6948417640924454 valid 0.6931932241085025\n",
            "EPOCH 19:\n",
            "  batch 1000 loss: 0.6949132514595986\n",
            "  batch 2000 loss: 0.6945630546808242\n",
            "  batch 3000 loss: 0.6949188772439957\n",
            "  batch 4000 loss: 0.6950066693425179\n",
            "  batch 5000 loss: 0.6953575865030289\n",
            "  batch 6000 loss: 0.6945893987417221\n",
            "  batch 7000 loss: 0.6946763698458671\n",
            "  batch 8000 loss: 0.6948139075040817\n",
            "LOSS train 0.6948139075040817 valid 0.6932038161803697\n",
            "EPOCH 20:\n"
          ]
        }
      ],
      "source": [
        "EPOCHS = 30\n",
        "epoch_number = 0\n",
        "\n",
        "best_vloss = 1_00000_000.\n",
        "\n",
        "for epoch in range(EPOCHS):\n",
        "    print('EPOCH {}:'.format(epoch_number + 1))\n",
        "\n",
        "    # Make sure gradient tracking is on, and do a pass over the data\n",
        "    heh.train(True)\n",
        "    avg_loss = train_one_epoch(epoch_number)\n",
        "    train_loss.append(avg_loss)\n",
        "    # We don't need gradients on to do reporting\n",
        "    heh.train(False)\n",
        "\n",
        "    running_vloss = 0.0\n",
        "    for i, (vdata,vlabels) in enumerate(dataloaders['val']):\n",
        "        vdata0,vdata1,vdata2 = vdata\n",
        "        vdata0,vdata1,vdata2 = vdata0.to(device),vdata1.to(device),vdata2.to(device)\n",
        "        vlabels = vlabels.to(device)\n",
        "        voutputs = heh(vdata0.float(),vdata1.float(),vdata2.float())\n",
        "        vloss = loss_fn(voutputs.squeeze(), vlabels)\n",
        "        running_vloss += vloss\n",
        "\n",
        "    avg_vloss = running_vloss / (i + 1)\n",
        "    val_loss.append(avg_vloss)\n",
        "    print('LOSS train {} valid {}'.format(avg_loss, avg_vloss))\n",
        "\n",
        "    # Log the running loss averaged per batch\n",
        "    # for both training and validation\n",
        "\n",
        "\n",
        "    # Track best performance, and save the model's state\n",
        "#     if avg_vloss < best_vloss:\n",
        "#         best_vloss = avg_vloss\n",
        "#         model_path = 'model_{}_{}'.format(timestamp, epoch_number)\n",
        "#         torch.save(heh.state_dict(), model_path)\n",
        "\n",
        "    epoch_number += 1"
      ]
    },
    {
      "cell_type": "code",
      "source": [
        "!pip install torchinfo\n",
        "from torchinfo import summary\n",
        "summary(heh)"
      ],
      "metadata": {
        "id": "e035yOWA_gil"
      },
      "id": "e035yOWA_gil",
      "execution_count": null,
      "outputs": []
    },
    {
      "cell_type": "code",
      "execution_count": null,
      "id": "f4706bfe",
      "metadata": {
        "id": "f4706bfe"
      },
      "outputs": [],
      "source": [
        "predicts = []\n",
        "real = []\n",
        "for i, (vdata,vlabels) in enumerate(dataloaders['test']):\n",
        "        vlabels = vlabels.to(device)\n",
        "        vdata0,vdata1,vdata2 = vdata\n",
        "        vdata0,vdata1,vdata2 = vdata0.to(device),vdata1.to(device),vdata2.to(device)\n",
        "        voutputs = heh(vdata0.float(),vdata1.float(),vdata2.float())\n",
        "        voutputs = torch.nn.functional.sigmoid(voutputs)\n",
        "        pred = voutputs > 0.5\n",
        "        pred = 1 * pred\n",
        "        running_vloss += vloss\n",
        "        for i in pred:\n",
        "            predicts.append(i.item())\n",
        "        for i in vlabels:\n",
        "            real.append(i.item())\n",
        "\n",
        "from sklearn.metrics import accuracy_score"
      ]
    },
    {
      "cell_type": "code",
      "execution_count": null,
      "id": "8a87f480",
      "metadata": {
        "colab": {
          "base_uri": "https://localhost:8080/"
        },
        "id": "8a87f480",
        "outputId": "f5e8f72f-43fc-47ae-f369-8fe5f71ba847"
      },
      "outputs": [
        {
          "output_type": "stream",
          "name": "stdout",
          "text": [
            "0.4975333333333333\n"
          ]
        }
      ],
      "source": [
        "print(accuracy_score(real,predicts))"
      ]
    },
    {
      "cell_type": "code",
      "execution_count": null,
      "id": "ae256d64",
      "metadata": {
        "id": "ae256d64"
      },
      "outputs": [],
      "source": [
        "import matplotlib.pyplot as plt"
      ]
    },
    {
      "cell_type": "code",
      "execution_count": null,
      "id": "c246f90b",
      "metadata": {
        "colab": {
          "base_uri": "https://localhost:8080/",
          "height": 282
        },
        "id": "c246f90b",
        "outputId": "cecf8360-b008-486b-9cd6-87c0f07feaf2"
      },
      "outputs": [
        {
          "output_type": "execute_result",
          "data": {
            "text/plain": [
              "[<matplotlib.lines.Line2D at 0x7f3697b9add0>]"
            ]
          },
          "metadata": {},
          "execution_count": 57
        },
        {
          "output_type": "display_data",
          "data": {
            "text/plain": [
              "<Figure size 432x288 with 1 Axes>"
            ],
            "image/png": "[encoded data removed]"
          },
          "metadata": {
            "needs_background": "light"
          }
        }
      ],
      "source": [
        "plt.plot(train_loss, c = 'blue')\n",
        "plt.plot([i.item() for i in val_loss], c = 'red')"
      ]
    },
    {
      "cell_type": "code",
      "execution_count": null,
      "id": "113d8395",
      "metadata": {
        "id": "113d8395"
      },
      "outputs": [],
      "source": []
    },
    {
      "cell_type": "code",
      "execution_count": null,
      "id": "53a2d26a",
      "metadata": {
        "id": "53a2d26a"
      },
      "outputs": [],
      "source": []
    }
  ],
  "metadata": {
    "kernelspec": {
      "display_name": "Python 3 (ipykernel)",
      "language": "python",
      "name": "python3"
    },
    "language_info": {
      "codemirror_mode": {
        "name": "ipython",
        "version": 3
      },
      "file_extension": ".py",
      "mimetype": "text/x-python",
      "name": "python",
      "nbconvert_exporter": "python",
      "pygments_lexer": "ipython3",
      "version": "3.9.7"
    },
    "colab": {
      "provenance": [],
      "collapsed_sections": [],
      "machine_shape": "hm"
    },
    "gpuClass": "premium"
  },
  "nbformat": 4,
  "nbformat_minor": 5
}