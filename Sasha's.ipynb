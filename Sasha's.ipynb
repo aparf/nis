{
  "cells": [
    {
      "cell_type": "code",
      "source": [
        "from google.colab import drive\n",
        "drive.mount('/content/drive')"
      ],
      "metadata": {
        "colab": {
          "base_uri": "https://localhost:8080/"
        },
        "id": "bsNkoj1rEFIQ",
        "outputId": "e25d9db8-b8f8-4b26-fc66-0a16d263a7c6"
      },
      "id": "bsNkoj1rEFIQ",
      "execution_count": null,
      "outputs": [
        {
          "output_type": "stream",
          "name": "stdout",
          "text": [
            "Drive already mounted at /content/drive; to attempt to forcibly remount, call drive.mount(\"/content/drive\", force_remount=True).\n"
          ]
        }
      ]
    },
    {
      "cell_type": "code",
      "source": [
        "import torch \n",
        "from torch import nn\n",
        "\n",
        "import os\n",
        "import pandas as pd\n",
        "from torch.utils.data import Dataset, Subset\n",
        "\n",
        "import h5py\n",
        "import numpy as np"
      ],
      "metadata": {
        "id": "b_lAjylghmA3"
      },
      "id": "b_lAjylghmA3",
      "execution_count": null,
      "outputs": []
    },
    {
      "cell_type": "code",
      "execution_count": null,
      "id": "dd1cc6c0",
      "metadata": {
        "id": "dd1cc6c0"
      },
      "outputs": [],
      "source": [
        "arr = np.random.randn(1000)\n",
        "\n",
        "with h5py.File('random.hdf5', 'w') as f:\n",
        "    dset = f.create_dataset(\"default\", data=arr)"
      ]
    },
    {
      "cell_type": "code",
      "execution_count": null,
      "id": "c49d1bdc",
      "metadata": {
        "id": "c49d1bdc"
      },
      "outputs": [],
      "source": [
        "gamma_f= h5py.File(\"/content/drive/MyDrive/year planning/gamma.hdf5\", 'r') "
      ]
    },
    {
      "cell_type": "code",
      "source": [
        "energy = gamma_f['energy'][:]\n",
        "layer_0 = gamma_f['layer_0'][:]\n",
        "layer_1 = gamma_f['layer_1'][:]\n",
        "layer_2 = gamma_f['layer_2'][:]\n",
        "overflow = gamma_f['overflow'][:]"
      ],
      "metadata": {
        "id": "ODfrU8PhdYaQ"
      },
      "id": "ODfrU8PhdYaQ",
      "execution_count": null,
      "outputs": []
    },
    {
      "cell_type": "code",
      "execution_count": null,
      "id": "b9acb809",
      "metadata": {
        "id": "b9acb809"
      },
      "outputs": [],
      "source": [
        "eplus_f = h5py.File(\"/content/drive/MyDrive/year planning/eplus.hdf5\", 'r') "
      ]
    },
    {
      "cell_type": "code",
      "execution_count": null,
      "id": "03a8b69e",
      "metadata": {
        "id": "03a8b69e"
      },
      "outputs": [],
      "source": [
        "energy_ep = eplus_f['energy'][:]\n",
        "layer_0_ep = eplus_f['layer_0'][:]\n",
        "layer_1_ep = eplus_f['layer_1'][:]\n",
        "layer_2_ep = eplus_f['layer_2'][:]\n",
        "overflow_ep = eplus_f['overflow'][:]"
      ]
    },
    {
      "cell_type": "code",
      "source": [],
      "metadata": {
        "id": "Zc7LO08Yn15q"
      },
      "id": "Zc7LO08Yn15q",
      "execution_count": null,
      "outputs": []
    },
    {
      "cell_type": "code",
      "execution_count": null,
      "id": "82f3dcf7",
      "metadata": {
        "id": "82f3dcf7"
      },
      "outputs": [],
      "source": [
        "class network(nn.Module):\n",
        "    def __init__(self,):\n",
        "        super().__init__()       \n",
        "      \n",
        "        self.Conv1_1 = nn.Sequential(\n",
        "            nn.Conv2d(in_channels=1, out_channels=64, \n",
        "                      kernel_size=(1, 16)\n",
        "                      ), \n",
        "            nn.ReLU(), \n",
        "            nn.BatchNorm2d(64)\n",
        "        )\n",
        "        self.Conv1_2 = nn.Sequential(\n",
        "            nn.Conv2d(in_channels=64,out_channels=32, \n",
        "                      kernel_size=(1, 8)\n",
        "                      ), \n",
        "            nn.ReLU(), \n",
        "            nn.BatchNorm2d(32),\n",
        "            nn.MaxPool2d((1, 2))\n",
        "        )\n",
        "        self.Conv1_3 = nn.Sequential(\n",
        "            nn.Conv2d(in_channels=32, out_channels=16, \n",
        "                      kernel_size=(1, 8)\n",
        "                      ), \n",
        "            nn.ReLU(), \n",
        "            nn.BatchNorm2d(16),\n",
        "        )\n",
        "        self.Conv1_4 = nn.Sequential(\n",
        "            nn.Conv2d(in_channels=16, out_channels=16,\n",
        "                      kernel_size=(3, 26)\n",
        "                      ), \n",
        "            nn.ReLU(),\n",
        "        ) \n",
        "\n",
        "        self.Conv2_1 = nn.Sequential(\n",
        "            nn.Conv2d(1, 64, (3, 3)), \n",
        "            nn.ReLU(), \n",
        "            nn.BatchNorm2d(64)\n",
        "        )\n",
        "        self.Conv2_2 = nn.Sequential(\n",
        "            nn.Conv2d(64, 32, (5, 5)), \n",
        "            nn.ReLU(), \n",
        "            nn.BatchNorm2d(32),\n",
        "            #nn.MaxPool2d((2, 2))\n",
        "        )\n",
        "        self.Conv2_3 = nn.Sequential(\n",
        "            nn.Conv2d(32, 16, (1, 1)), \n",
        "            nn.ReLU(), \n",
        "            nn.BatchNorm2d(16),\n",
        "            #nn.MaxPool2d((2, 2))\n",
        "        )\n",
        "        self.Conv2_4 = nn.Sequential(\n",
        "            nn.Conv2d(16, 16, (6, 2)), \n",
        "            nn.ReLU(),\n",
        "        )\n",
        "\n",
        "        self.Conv3_1 = nn.Sequential(\n",
        "            nn.Conv2d(1, 64, (3, 1)), \n",
        "            nn.ReLU(), \n",
        "            nn.BatchNorm2d(64)\n",
        "        )\n",
        "        self.Conv3_2 = nn.Sequential(\n",
        "            nn.Conv2d(64, 32, (5, 1)), \n",
        "            nn.ReLU(), \n",
        "            nn.BatchNorm2d(32),\n",
        "            \n",
        "        )\n",
        "        self.Conv3_3 = nn.Sequential(\n",
        "            nn.Conv2d(32, 16, (3, 2)), \n",
        "            nn.ReLU(), \n",
        "            nn.BatchNorm2d(16),\n",
        "           \n",
        "        )\n",
        "        self.Conv3_4 = nn.Sequential(\n",
        "            nn.Conv2d(16, 16, (4, 1)), \n",
        "            nn.ReLU(),\n",
        "        )\n",
        "\n",
        "        self.input1 = nn.Linear(16, 16)\n",
        "        \n",
        "        self.input2 = nn.Linear(12*12,20)\n",
        "        self.input3 = nn.Linear(12*6,10)\n",
        "        \n",
        "        self.bn1 = nn.BatchNorm1d(30)\n",
        "        self.bn2 = nn.BatchNorm1d(20)\n",
        "        self.bn3 = nn.BatchNorm1d(10)\n",
        "        \n",
        "        self.drop1 = nn.Dropout(p=0.2)\n",
        "        self.drop2 = nn.Dropout(p=0.2)\n",
        "        self.drop3 = nn.Dropout(p=0.2)\n",
        "\n",
        "        self.lin = nn.Linear(60,1)\n",
        "        \n",
        "    def forward(self,x,y,z):\n",
        "        x = x.reshape([16,1,3,96]).float()\n",
        "        x = self.Conv1_1(x)\n",
        "        x = self.Conv1_2(x)\n",
        "        x = self.Conv1_3(x)\n",
        "        x = self.Conv1_4(x)\n",
        "        y = y.reshape([16,1,12,12]).float()\n",
        "        y = self.Conv2_4(self.Conv2_3(self.Conv2_2(self.Conv2_1(y))))\n",
        "        z = z.reshape([16,1,12,6]).float()\n",
        "        z = self.Conv3_1(z)\n",
        "        z = self.Conv3_2(z)\n",
        "        z = self.Conv3_3(z)\n",
        "        z = self.Conv3_4(z)\n",
        "\n",
        "        print(x.shape, y.shape, z.shape)\n",
        "        #z = self.Conv3_4(self.Conv3_3(self.Conv3_2(self.Conv3_1(z))))\n",
        "        x = self.input1(x.flatten(start_dim=1))\n",
        "        y = self.input2(y.flatten(start_dim=1))\n",
        "        z = self.input3(z.flatten(start_dim=1))\n",
        "        \n",
        "        h = torch.cat((self.drop1(self.bn1(x)), self.drop2(self.bn2(y)), self.drop3(self.bn3(z))),axis=1)\n",
        "        \n",
        "        h = self.lin(h)\n",
        "        return h"
      ]
    },
    {
      "cell_type": "code",
      "execution_count": null,
      "id": "139d8fba",
      "metadata": {
        "id": "139d8fba"
      },
      "outputs": [],
      "source": [
        "\n",
        "def conv_block(input_size, output_size):\n",
        "    block = nn.Sequential(\n",
        "        nn.Conv2d(input_size, output_size, (3, 3)), nn.ReLU(), nn.BatchNorm2d(output_size), nn.MaxPool2d((2, 2)),\n",
        "    )\n",
        "\n",
        "    return block"
      ]
    },
    {
      "cell_type": "code",
      "execution_count": null,
      "id": "4966a031",
      "metadata": {
        "id": "4966a031"
      },
      "outputs": [],
      "source": [
        "class CustomImageDataset(Dataset):\n",
        "    def __init__(self, labels, layer_0, layer_1,layer_02):\n",
        "        self.labels = labels\n",
        "        self.layer_0 = layer_0 \n",
        "        self.layer_1 = layer_1\n",
        "        self.layer_2 = layer_2\n",
        "        \n",
        "    def __len__(self):\n",
        "        return len(self.labels)\n",
        "    \n",
        "    def __getitem__(self, idx):\n",
        "        image1 = layer_0[idx]\n",
        "        image2 = layer_1[idx]\n",
        "        image3 = layer_2[idx]\n",
        "        label = self.labels[idx]\n",
        "        return (image1,image2,image3), label"
      ]
    },
    {
      "cell_type": "code",
      "execution_count": null,
      "id": "d53f48d7",
      "metadata": {
        "id": "d53f48d7"
      },
      "outputs": [],
      "source": [
        "dataset_gamma = CustomImageDataset(np.ones(100000),layer_0,layer_1,layer_2)\n",
        "dataset_ep = CustomImageDataset(np.zeros(100000),layer_0_ep,layer_1_ep,layer_2_ep)\n",
        "total_data = torch.utils.data.ConcatDataset([dataset_gamma, dataset_ep])"
      ]
    },
    {
      "cell_type": "code",
      "execution_count": null,
      "id": "4b9e8653",
      "metadata": {
        "id": "4b9e8653"
      },
      "outputs": [],
      "source": [
        "N = len(total_data)\n",
        "\n",
        "# generate & shuffle indices\n",
        "indices = np.arange(N)\n",
        "indices = np.random.permutation(indices)\n",
        "# there are many ways to do the above two operation. (Example, using np.random.choice can be used here too\n",
        "\n",
        "# select train/test/val, for demo I am using 70,15,15\n",
        "train_indices = indices [:int(0.7*N)]\n",
        "val_indices = indices[int(0.7*N):int(0.85*N)]\n",
        "test_indices = indices[int(0.85*N):]\n",
        "\n",
        "train_dataset = Subset(total_data, train_indices)\n",
        "val_dataset = Subset(total_data, val_indices)\n",
        "test_dataset = Subset(total_data, test_indices)"
      ]
    },
    {
      "cell_type": "code",
      "execution_count": null,
      "id": "cd6b9565",
      "metadata": {
        "id": "cd6b9565",
        "outputId": "35f961b0-7f74-4642-ae1b-a65f5cb39802",
        "colab": {
          "base_uri": "https://localhost:8080/"
        }
      },
      "outputs": [
        {
          "output_type": "execute_result",
          "data": {
            "text/plain": [
              "3"
            ]
          },
          "metadata": {},
          "execution_count": 871
        }
      ],
      "source": [
        "len(total_data[0][0])"
      ]
    },
    {
      "cell_type": "code",
      "execution_count": null,
      "id": "0e1acd05",
      "metadata": {
        "id": "0e1acd05",
        "outputId": "64b365da-cbef-4f0e-9260-5eb91ce20f6b",
        "colab": {
          "base_uri": "https://localhost:8080/"
        }
      },
      "outputs": [
        {
          "output_type": "execute_result",
          "data": {
            "text/plain": [
              "2"
            ]
          },
          "metadata": {},
          "execution_count": 872
        }
      ],
      "source": [
        "len(total_data[0])"
      ]
    },
    {
      "cell_type": "code",
      "execution_count": null,
      "id": "a88a6987",
      "metadata": {
        "id": "a88a6987",
        "outputId": "f9f4dc60-03c4-4fc8-e99f-0e014397c85e",
        "colab": {
          "base_uri": "https://localhost:8080/"
        }
      },
      "outputs": [
        {
          "output_type": "execute_result",
          "data": {
            "text/plain": [
              "(100000, 3, 96)"
            ]
          },
          "metadata": {},
          "execution_count": 873
        }
      ],
      "source": [
        "layer_0.shape"
      ]
    },
    {
      "cell_type": "code",
      "execution_count": null,
      "id": "c4d049e2",
      "metadata": {
        "id": "c4d049e2",
        "outputId": "c7c5fa29-6121-40ac-e0fc-95fccff9df5f",
        "colab": {
          "base_uri": "https://localhost:8080/"
        }
      },
      "outputs": [
        {
          "output_type": "execute_result",
          "data": {
            "text/plain": [
              "(100000, 12, 12)"
            ]
          },
          "metadata": {},
          "execution_count": 874
        }
      ],
      "source": [
        "layer_1.shape"
      ]
    },
    {
      "cell_type": "code",
      "execution_count": null,
      "id": "795e2c95",
      "metadata": {
        "id": "795e2c95",
        "outputId": "6e84f329-f967-4c50-cf66-1ec12cb29225",
        "colab": {
          "base_uri": "https://localhost:8080/"
        }
      },
      "outputs": [
        {
          "output_type": "execute_result",
          "data": {
            "text/plain": [
              "(100000, 12, 6)"
            ]
          },
          "metadata": {},
          "execution_count": 875
        }
      ],
      "source": [
        "layer_2.shape"
      ]
    },
    {
      "cell_type": "code",
      "execution_count": null,
      "id": "8ce1a05b",
      "metadata": {
        "id": "8ce1a05b",
        "outputId": "c3563b80-154c-461e-c033-9bb54b3eb5ab",
        "colab": {
          "base_uri": "https://localhost:8080/"
        }
      },
      "outputs": [
        {
          "output_type": "execute_result",
          "data": {
            "text/plain": [
              "(100000, 3)"
            ]
          },
          "metadata": {},
          "execution_count": 876
        }
      ],
      "source": [
        "overflow.shape"
      ]
    },
    {
      "cell_type": "code",
      "execution_count": null,
      "id": "63e14053",
      "metadata": {
        "id": "63e14053"
      },
      "outputs": [],
      "source": [
        "heh = network()"
      ]
    },
    {
      "cell_type": "code",
      "execution_count": null,
      "id": "8ce31d02",
      "metadata": {
        "id": "8ce31d02",
        "outputId": "348c4288-fd88-4e54-9619-deaf21831e6f",
        "colab": {
          "base_uri": "https://localhost:8080/"
        }
      },
      "outputs": [
        {
          "output_type": "execute_result",
          "data": {
            "text/plain": [
              "(3, 96)"
            ]
          },
          "metadata": {},
          "execution_count": 878
        }
      ],
      "source": [
        "layer_0[0].shape"
      ]
    },
    {
      "cell_type": "code",
      "execution_count": null,
      "id": "37de151e",
      "metadata": {
        "id": "37de151e",
        "outputId": "1d231659-9a4e-49b8-d12c-482d632bc9cd",
        "colab": {
          "base_uri": "https://localhost:8080/"
        }
      },
      "outputs": [
        {
          "output_type": "execute_result",
          "data": {
            "text/plain": [
              "torch.Size([288])"
            ]
          },
          "metadata": {},
          "execution_count": 879
        }
      ],
      "source": [
        "torch.Tensor(layer_0[0]).flatten().shape"
      ]
    },
    {
      "cell_type": "code",
      "execution_count": null,
      "id": "1ad26512",
      "metadata": {
        "id": "1ad26512"
      },
      "outputs": [],
      "source": [
        "from torch.utils.data import DataLoader"
      ]
    },
    {
      "cell_type": "code",
      "execution_count": null,
      "id": "6ea6aac2",
      "metadata": {
        "id": "6ea6aac2"
      },
      "outputs": [],
      "source": [
        "dataloaders = {'train':DataLoader(train_dataset, batch_size=16),'val':DataLoader(val_dataset, batch_size=16), 'test':DataLoader(test_dataset, batch_size=16)}"
      ]
    },
    {
      "cell_type": "code",
      "execution_count": null,
      "id": "bfc6c93f",
      "metadata": {
        "id": "bfc6c93f"
      },
      "outputs": [],
      "source": [
        "loss_fn = loss = nn.BCEWithLogitsLoss()"
      ]
    },
    {
      "cell_type": "code",
      "execution_count": null,
      "id": "9be14d78",
      "metadata": {
        "id": "9be14d78"
      },
      "outputs": [],
      "source": [
        "optimizer = torch.optim.Adam(heh.parameters(), lr=0.00001)"
      ]
    },
    {
      "cell_type": "code",
      "source": [
        "dataloaders['train']"
      ],
      "metadata": {
        "colab": {
          "base_uri": "https://localhost:8080/"
        },
        "id": "lOeWDhTTIKJv",
        "outputId": "29800198-90e6-4805-a23d-17c51db659eb"
      },
      "id": "lOeWDhTTIKJv",
      "execution_count": null,
      "outputs": [
        {
          "output_type": "execute_result",
          "data": {
            "text/plain": [
              "<torch.utils.data.dataloader.DataLoader at 0x7ff606941610>"
            ]
          },
          "metadata": {},
          "execution_count": 884
        }
      ]
    },
    {
      "cell_type": "code",
      "execution_count": null,
      "id": "2dfb406b",
      "metadata": {
        "id": "2dfb406b"
      },
      "outputs": [],
      "source": [
        "def train_one_epoch(epoch_index):\n",
        "    running_loss = 0.\n",
        "    last_loss = 0.\n",
        "\n",
        "    # Here, we use enumerate(training_loader) instead of\n",
        "    # iter(training_loader) so that we can track the batch\n",
        "    # index and do some intra-epoch reporting\n",
        "    for i, (data,labels) in enumerate(dataloaders['train']):\n",
        "        # Every data instance is an input + label pair\n",
        "        data0,data1,data2 = data\n",
        "        # Zero your gradients for every batch!\n",
        "        optimizer.zero_grad()\n",
        "\n",
        "        # Make predictions for this batch\n",
        "        outputs = heh(data0.float(),data1.float(),data2.float())\n",
        "\n",
        "        # Compute the loss and its gradients\n",
        "        loss = loss_fn(outputs.float().squeeze(), labels.float())\n",
        "        loss.backward()\n",
        "\n",
        "        # Adjust learning weights\n",
        "        optimizer.step()\n",
        "\n",
        "        # Gather data and report\n",
        "        running_loss += loss.item()\n",
        "        if i % 1000 == 999:\n",
        "            last_loss = running_loss / 1000 # loss per batch\n",
        "            print('  batch {} loss: {}'.format(i + 1, last_loss))\n",
        "            tb_x = epoch_index * len(dataloaders['train']) + i + 1\n",
        "            running_loss = 0.\n",
        "\n",
        "    return last_loss"
      ]
    },
    {
      "cell_type": "code",
      "execution_count": null,
      "id": "e2e6f82f",
      "metadata": {
        "id": "e2e6f82f"
      },
      "outputs": [],
      "source": [
        "train_loss = []\n",
        "val_loss = []"
      ]
    },
    {
      "cell_type": "code",
      "execution_count": null,
      "id": "8f82e5a9",
      "metadata": {
        "id": "8f82e5a9",
        "colab": {
          "base_uri": "https://localhost:8080/",
          "height": 433
        },
        "outputId": "7ec761da-0561-45eb-f8cd-204b045e78a0"
      },
      "outputs": [
        {
          "output_type": "stream",
          "name": "stdout",
          "text": [
            "EPOCH 1:\n",
            "torch.Size([16, 16, 1, 5]) torch.Size([16, 16, 1, 5]) torch.Size([16, 16, 1, 5])\n"
          ]
        },
        {
          "output_type": "error",
          "ename": "RuntimeError",
          "evalue": "ignored",
          "traceback": [
            "\u001b[0;31m---------------------------------------------------------------------------\u001b[0m",
            "\u001b[0;31mRuntimeError\u001b[0m                              Traceback (most recent call last)",
            "\u001b[0;32m<ipython-input-887-9d148e62dede>\u001b[0m in \u001b[0;36m<module>\u001b[0;34m\u001b[0m\n\u001b[1;32m      9\u001b[0m     \u001b[0;31m# Make sure gradient tracking is on, and do a pass over the data\u001b[0m\u001b[0;34m\u001b[0m\u001b[0;34m\u001b[0m\u001b[0;34m\u001b[0m\u001b[0m\n\u001b[1;32m     10\u001b[0m     \u001b[0mheh\u001b[0m\u001b[0;34m.\u001b[0m\u001b[0mtrain\u001b[0m\u001b[0;34m(\u001b[0m\u001b[0;32mTrue\u001b[0m\u001b[0;34m)\u001b[0m\u001b[0;34m\u001b[0m\u001b[0;34m\u001b[0m\u001b[0m\n\u001b[0;32m---> 11\u001b[0;31m     \u001b[0mavg_loss\u001b[0m \u001b[0;34m=\u001b[0m \u001b[0mtrain_one_epoch\u001b[0m\u001b[0;34m(\u001b[0m\u001b[0mepoch_number\u001b[0m\u001b[0;34m)\u001b[0m\u001b[0;34m\u001b[0m\u001b[0;34m\u001b[0m\u001b[0m\n\u001b[0m\u001b[1;32m     12\u001b[0m     \u001b[0mtrain_loss\u001b[0m\u001b[0;34m.\u001b[0m\u001b[0mappend\u001b[0m\u001b[0;34m(\u001b[0m\u001b[0mavg_loss\u001b[0m\u001b[0;34m)\u001b[0m\u001b[0;34m\u001b[0m\u001b[0;34m\u001b[0m\u001b[0m\n\u001b[1;32m     13\u001b[0m     \u001b[0;31m# We don't need gradients on to do reporting\u001b[0m\u001b[0;34m\u001b[0m\u001b[0;34m\u001b[0m\u001b[0;34m\u001b[0m\u001b[0m\n",
            "\u001b[0;32m<ipython-input-885-8463749e87f3>\u001b[0m in \u001b[0;36mtrain_one_epoch\u001b[0;34m(epoch_index)\u001b[0m\n\u001b[1;32m     13\u001b[0m \u001b[0;34m\u001b[0m\u001b[0m\n\u001b[1;32m     14\u001b[0m         \u001b[0;31m# Make predictions for this batch\u001b[0m\u001b[0;34m\u001b[0m\u001b[0;34m\u001b[0m\u001b[0;34m\u001b[0m\u001b[0m\n\u001b[0;32m---> 15\u001b[0;31m         \u001b[0moutputs\u001b[0m \u001b[0;34m=\u001b[0m \u001b[0mheh\u001b[0m\u001b[0;34m(\u001b[0m\u001b[0mdata0\u001b[0m\u001b[0;34m.\u001b[0m\u001b[0mfloat\u001b[0m\u001b[0;34m(\u001b[0m\u001b[0;34m)\u001b[0m\u001b[0;34m,\u001b[0m\u001b[0mdata1\u001b[0m\u001b[0;34m.\u001b[0m\u001b[0mfloat\u001b[0m\u001b[0;34m(\u001b[0m\u001b[0;34m)\u001b[0m\u001b[0;34m,\u001b[0m\u001b[0mdata2\u001b[0m\u001b[0;34m.\u001b[0m\u001b[0mfloat\u001b[0m\u001b[0;34m(\u001b[0m\u001b[0;34m)\u001b[0m\u001b[0;34m)\u001b[0m\u001b[0;34m\u001b[0m\u001b[0;34m\u001b[0m\u001b[0m\n\u001b[0m\u001b[1;32m     16\u001b[0m \u001b[0;34m\u001b[0m\u001b[0m\n\u001b[1;32m     17\u001b[0m         \u001b[0;31m# Compute the loss and its gradients\u001b[0m\u001b[0;34m\u001b[0m\u001b[0;34m\u001b[0m\u001b[0;34m\u001b[0m\u001b[0m\n",
            "\u001b[0;32m/usr/local/lib/python3.7/dist-packages/torch/nn/modules/module.py\u001b[0m in \u001b[0;36m_call_impl\u001b[0;34m(self, *input, **kwargs)\u001b[0m\n\u001b[1;32m   1128\u001b[0m         if not (self._backward_hooks or self._forward_hooks or self._forward_pre_hooks or _global_backward_hooks\n\u001b[1;32m   1129\u001b[0m                 or _global_forward_hooks or _global_forward_pre_hooks):\n\u001b[0;32m-> 1130\u001b[0;31m             \u001b[0;32mreturn\u001b[0m \u001b[0mforward_call\u001b[0m\u001b[0;34m(\u001b[0m\u001b[0;34m*\u001b[0m\u001b[0minput\u001b[0m\u001b[0;34m,\u001b[0m \u001b[0;34m**\u001b[0m\u001b[0mkwargs\u001b[0m\u001b[0;34m)\u001b[0m\u001b[0;34m\u001b[0m\u001b[0;34m\u001b[0m\u001b[0m\n\u001b[0m\u001b[1;32m   1131\u001b[0m         \u001b[0;31m# Do not call functions when jit is used\u001b[0m\u001b[0;34m\u001b[0m\u001b[0;34m\u001b[0m\u001b[0;34m\u001b[0m\u001b[0m\n\u001b[1;32m   1132\u001b[0m         \u001b[0mfull_backward_hooks\u001b[0m\u001b[0;34m,\u001b[0m \u001b[0mnon_full_backward_hooks\u001b[0m \u001b[0;34m=\u001b[0m \u001b[0;34m[\u001b[0m\u001b[0;34m]\u001b[0m\u001b[0;34m,\u001b[0m \u001b[0;34m[\u001b[0m\u001b[0;34m]\u001b[0m\u001b[0;34m\u001b[0m\u001b[0;34m\u001b[0m\u001b[0m\n",
            "\u001b[0;32m<ipython-input-866-b11c0b090c9a>\u001b[0m in \u001b[0;36mforward\u001b[0;34m(self, x, y, z)\u001b[0m\n\u001b[1;32m    107\u001b[0m         \u001b[0mprint\u001b[0m\u001b[0;34m(\u001b[0m\u001b[0mx\u001b[0m\u001b[0;34m.\u001b[0m\u001b[0mshape\u001b[0m\u001b[0;34m,\u001b[0m \u001b[0my\u001b[0m\u001b[0;34m.\u001b[0m\u001b[0mshape\u001b[0m\u001b[0;34m,\u001b[0m \u001b[0mz\u001b[0m\u001b[0;34m.\u001b[0m\u001b[0mshape\u001b[0m\u001b[0;34m)\u001b[0m\u001b[0;34m\u001b[0m\u001b[0;34m\u001b[0m\u001b[0m\n\u001b[1;32m    108\u001b[0m         \u001b[0;31m#z = self.Conv3_4(self.Conv3_3(self.Conv3_2(self.Conv3_1(z))))\u001b[0m\u001b[0;34m\u001b[0m\u001b[0;34m\u001b[0m\u001b[0;34m\u001b[0m\u001b[0m\n\u001b[0;32m--> 109\u001b[0;31m         \u001b[0mx\u001b[0m \u001b[0;34m=\u001b[0m \u001b[0mself\u001b[0m\u001b[0;34m.\u001b[0m\u001b[0minput1\u001b[0m\u001b[0;34m(\u001b[0m\u001b[0mx\u001b[0m\u001b[0;34m.\u001b[0m\u001b[0mflatten\u001b[0m\u001b[0;34m(\u001b[0m\u001b[0mstart_dim\u001b[0m\u001b[0;34m=\u001b[0m\u001b[0;36m1\u001b[0m\u001b[0;34m)\u001b[0m\u001b[0;34m)\u001b[0m\u001b[0;34m\u001b[0m\u001b[0;34m\u001b[0m\u001b[0m\n\u001b[0m\u001b[1;32m    110\u001b[0m         \u001b[0my\u001b[0m \u001b[0;34m=\u001b[0m \u001b[0mself\u001b[0m\u001b[0;34m.\u001b[0m\u001b[0minput2\u001b[0m\u001b[0;34m(\u001b[0m\u001b[0my\u001b[0m\u001b[0;34m.\u001b[0m\u001b[0mflatten\u001b[0m\u001b[0;34m(\u001b[0m\u001b[0mstart_dim\u001b[0m\u001b[0;34m=\u001b[0m\u001b[0;36m1\u001b[0m\u001b[0;34m)\u001b[0m\u001b[0;34m)\u001b[0m\u001b[0;34m\u001b[0m\u001b[0;34m\u001b[0m\u001b[0m\n\u001b[1;32m    111\u001b[0m         \u001b[0mz\u001b[0m \u001b[0;34m=\u001b[0m \u001b[0mself\u001b[0m\u001b[0;34m.\u001b[0m\u001b[0minput3\u001b[0m\u001b[0;34m(\u001b[0m\u001b[0mz\u001b[0m\u001b[0;34m.\u001b[0m\u001b[0mflatten\u001b[0m\u001b[0;34m(\u001b[0m\u001b[0mstart_dim\u001b[0m\u001b[0;34m=\u001b[0m\u001b[0;36m1\u001b[0m\u001b[0;34m)\u001b[0m\u001b[0;34m)\u001b[0m\u001b[0;34m\u001b[0m\u001b[0;34m\u001b[0m\u001b[0m\n",
            "\u001b[0;32m/usr/local/lib/python3.7/dist-packages/torch/nn/modules/module.py\u001b[0m in \u001b[0;36m_call_impl\u001b[0;34m(self, *input, **kwargs)\u001b[0m\n\u001b[1;32m   1128\u001b[0m         if not (self._backward_hooks or self._forward_hooks or self._forward_pre_hooks or _global_backward_hooks\n\u001b[1;32m   1129\u001b[0m                 or _global_forward_hooks or _global_forward_pre_hooks):\n\u001b[0;32m-> 1130\u001b[0;31m             \u001b[0;32mreturn\u001b[0m \u001b[0mforward_call\u001b[0m\u001b[0;34m(\u001b[0m\u001b[0;34m*\u001b[0m\u001b[0minput\u001b[0m\u001b[0;34m,\u001b[0m \u001b[0;34m**\u001b[0m\u001b[0mkwargs\u001b[0m\u001b[0;34m)\u001b[0m\u001b[0;34m\u001b[0m\u001b[0;34m\u001b[0m\u001b[0m\n\u001b[0m\u001b[1;32m   1131\u001b[0m         \u001b[0;31m# Do not call functions when jit is used\u001b[0m\u001b[0;34m\u001b[0m\u001b[0;34m\u001b[0m\u001b[0;34m\u001b[0m\u001b[0m\n\u001b[1;32m   1132\u001b[0m         \u001b[0mfull_backward_hooks\u001b[0m\u001b[0;34m,\u001b[0m \u001b[0mnon_full_backward_hooks\u001b[0m \u001b[0;34m=\u001b[0m \u001b[0;34m[\u001b[0m\u001b[0;34m]\u001b[0m\u001b[0;34m,\u001b[0m \u001b[0;34m[\u001b[0m\u001b[0;34m]\u001b[0m\u001b[0;34m\u001b[0m\u001b[0;34m\u001b[0m\u001b[0m\n",
            "\u001b[0;32m/usr/local/lib/python3.7/dist-packages/torch/nn/modules/linear.py\u001b[0m in \u001b[0;36mforward\u001b[0;34m(self, input)\u001b[0m\n\u001b[1;32m    112\u001b[0m \u001b[0;34m\u001b[0m\u001b[0m\n\u001b[1;32m    113\u001b[0m     \u001b[0;32mdef\u001b[0m \u001b[0mforward\u001b[0m\u001b[0;34m(\u001b[0m\u001b[0mself\u001b[0m\u001b[0;34m,\u001b[0m \u001b[0minput\u001b[0m\u001b[0;34m:\u001b[0m \u001b[0mTensor\u001b[0m\u001b[0;34m)\u001b[0m \u001b[0;34m->\u001b[0m \u001b[0mTensor\u001b[0m\u001b[0;34m:\u001b[0m\u001b[0;34m\u001b[0m\u001b[0;34m\u001b[0m\u001b[0m\n\u001b[0;32m--> 114\u001b[0;31m         \u001b[0;32mreturn\u001b[0m \u001b[0mF\u001b[0m\u001b[0;34m.\u001b[0m\u001b[0mlinear\u001b[0m\u001b[0;34m(\u001b[0m\u001b[0minput\u001b[0m\u001b[0;34m,\u001b[0m \u001b[0mself\u001b[0m\u001b[0;34m.\u001b[0m\u001b[0mweight\u001b[0m\u001b[0;34m,\u001b[0m \u001b[0mself\u001b[0m\u001b[0;34m.\u001b[0m\u001b[0mbias\u001b[0m\u001b[0;34m)\u001b[0m\u001b[0;34m\u001b[0m\u001b[0;34m\u001b[0m\u001b[0m\n\u001b[0m\u001b[1;32m    115\u001b[0m \u001b[0;34m\u001b[0m\u001b[0m\n\u001b[1;32m    116\u001b[0m     \u001b[0;32mdef\u001b[0m \u001b[0mextra_repr\u001b[0m\u001b[0;34m(\u001b[0m\u001b[0mself\u001b[0m\u001b[0;34m)\u001b[0m \u001b[0;34m->\u001b[0m \u001b[0mstr\u001b[0m\u001b[0;34m:\u001b[0m\u001b[0;34m\u001b[0m\u001b[0;34m\u001b[0m\u001b[0m\n",
            "\u001b[0;31mRuntimeError\u001b[0m: mat1 and mat2 shapes cannot be multiplied (16x80 and 16x16)"
          ]
        }
      ],
      "source": [
        "EPOCHS = 30\n",
        "epoch_number = 0\n",
        "\n",
        "best_vloss = 1_00000_000.\n",
        "\n",
        "for epoch in range(EPOCHS):\n",
        "    print('EPOCH {}:'.format(epoch_number + 1))\n",
        "\n",
        "    # Make sure gradient tracking is on, and do a pass over the data\n",
        "    heh.train(True)\n",
        "    avg_loss = train_one_epoch(epoch_number)\n",
        "    train_loss.append(avg_loss)\n",
        "    # We don't need gradients on to do reporting\n",
        "    heh.train(False)\n",
        "\n",
        "    running_vloss = 0.0\n",
        "    for i, (vdata,vlabels) in enumerate(dataloaders['val']):\n",
        "        vdata0,vdata1,vdata2 = vdata\n",
        "        voutputs = heh(vdata0.float(),vdata1.float(),vdata2.float())\n",
        "        vloss = loss_fn(voutputs.squeeze(), vlabels)\n",
        "        running_vloss += vloss\n",
        "\n",
        "    avg_vloss = running_vloss / (i + 1)\n",
        "    val_loss.append(avg_vloss)\n",
        "    print('LOSS train {} valid {}'.format(avg_loss, avg_vloss))\n",
        "\n",
        "    # Log the running loss averaged per batch\n",
        "    # for both training and validation\n",
        "\n",
        "\n",
        "    # Track best performance, and save the model's state\n",
        "#     if avg_vloss < best_vloss:\n",
        "#         best_vloss = avg_vloss\n",
        "#         model_path = 'model_{}_{}'.format(timestamp, epoch_number)\n",
        "#         torch.save(heh.state_dict(), model_path)\n",
        "\n",
        "    epoch_number += 1"
      ]
    },
    {
      "cell_type": "code",
      "source": [],
      "metadata": {
        "id": "DqRluhe6fBk5"
      },
      "id": "DqRluhe6fBk5",
      "execution_count": null,
      "outputs": []
    },
    {
      "cell_type": "code",
      "execution_count": null,
      "id": "d8c99660",
      "metadata": {
        "id": "d8c99660",
        "outputId": "ce94dbd5-af58-473a-f53b-0ca6ba526964",
        "colab": {
          "base_uri": "https://localhost:8080/",
          "height": 415
        }
      },
      "outputs": [
        {
          "output_type": "stream",
          "name": "stdout",
          "text": [
            "torch.Size([16, 16, 1, 5]) torch.Size([16, 16, 1, 5]) torch.Size([16, 16, 1, 5])\n"
          ]
        },
        {
          "output_type": "error",
          "ename": "RuntimeError",
          "evalue": "ignored",
          "traceback": [
            "\u001b[0;31m---------------------------------------------------------------------------\u001b[0m",
            "\u001b[0;31mRuntimeError\u001b[0m                              Traceback (most recent call last)",
            "\u001b[0;32m<ipython-input-842-b3849cfb71d7>\u001b[0m in \u001b[0;36m<module>\u001b[0;34m\u001b[0m\n\u001b[1;32m      3\u001b[0m \u001b[0;32mfor\u001b[0m \u001b[0mi\u001b[0m\u001b[0;34m,\u001b[0m \u001b[0;34m(\u001b[0m\u001b[0mvdata\u001b[0m\u001b[0;34m,\u001b[0m\u001b[0mvlabels\u001b[0m\u001b[0;34m)\u001b[0m \u001b[0;32min\u001b[0m \u001b[0menumerate\u001b[0m\u001b[0;34m(\u001b[0m\u001b[0mdataloaders\u001b[0m\u001b[0;34m[\u001b[0m\u001b[0;34m'test'\u001b[0m\u001b[0;34m]\u001b[0m\u001b[0;34m)\u001b[0m\u001b[0;34m:\u001b[0m\u001b[0;34m\u001b[0m\u001b[0;34m\u001b[0m\u001b[0m\n\u001b[1;32m      4\u001b[0m         \u001b[0mvdata0\u001b[0m\u001b[0;34m,\u001b[0m\u001b[0mvdata1\u001b[0m\u001b[0;34m,\u001b[0m\u001b[0mvdata2\u001b[0m \u001b[0;34m=\u001b[0m \u001b[0mvdata\u001b[0m\u001b[0;34m\u001b[0m\u001b[0;34m\u001b[0m\u001b[0m\n\u001b[0;32m----> 5\u001b[0;31m         \u001b[0mvoutputs\u001b[0m \u001b[0;34m=\u001b[0m \u001b[0mheh\u001b[0m\u001b[0;34m(\u001b[0m\u001b[0mvdata0\u001b[0m\u001b[0;34m.\u001b[0m\u001b[0mfloat\u001b[0m\u001b[0;34m(\u001b[0m\u001b[0;34m)\u001b[0m\u001b[0;34m,\u001b[0m\u001b[0mvdata1\u001b[0m\u001b[0;34m.\u001b[0m\u001b[0mfloat\u001b[0m\u001b[0;34m(\u001b[0m\u001b[0;34m)\u001b[0m\u001b[0;34m,\u001b[0m\u001b[0mvdata2\u001b[0m\u001b[0;34m.\u001b[0m\u001b[0mfloat\u001b[0m\u001b[0;34m(\u001b[0m\u001b[0;34m)\u001b[0m\u001b[0;34m)\u001b[0m\u001b[0;34m\u001b[0m\u001b[0;34m\u001b[0m\u001b[0m\n\u001b[0m\u001b[1;32m      6\u001b[0m         \u001b[0mvloss\u001b[0m \u001b[0;34m=\u001b[0m \u001b[0mloss_fn\u001b[0m\u001b[0;34m(\u001b[0m\u001b[0mvoutputs\u001b[0m\u001b[0;34m.\u001b[0m\u001b[0msqueeze\u001b[0m\u001b[0;34m(\u001b[0m\u001b[0;34m)\u001b[0m\u001b[0;34m,\u001b[0m \u001b[0mvlabels\u001b[0m\u001b[0;34m)\u001b[0m\u001b[0;34m\u001b[0m\u001b[0;34m\u001b[0m\u001b[0m\n\u001b[1;32m      7\u001b[0m         \u001b[0mpred\u001b[0m \u001b[0;34m=\u001b[0m \u001b[0mvoutputs\u001b[0m \u001b[0;34m>\u001b[0m \u001b[0;36m0.5\u001b[0m\u001b[0;34m\u001b[0m\u001b[0;34m\u001b[0m\u001b[0m\n",
            "\u001b[0;32m/usr/local/lib/python3.7/dist-packages/torch/nn/modules/module.py\u001b[0m in \u001b[0;36m_call_impl\u001b[0;34m(self, *input, **kwargs)\u001b[0m\n\u001b[1;32m   1128\u001b[0m         if not (self._backward_hooks or self._forward_hooks or self._forward_pre_hooks or _global_backward_hooks\n\u001b[1;32m   1129\u001b[0m                 or _global_forward_hooks or _global_forward_pre_hooks):\n\u001b[0;32m-> 1130\u001b[0;31m             \u001b[0;32mreturn\u001b[0m \u001b[0mforward_call\u001b[0m\u001b[0;34m(\u001b[0m\u001b[0;34m*\u001b[0m\u001b[0minput\u001b[0m\u001b[0;34m,\u001b[0m \u001b[0;34m**\u001b[0m\u001b[0mkwargs\u001b[0m\u001b[0;34m)\u001b[0m\u001b[0;34m\u001b[0m\u001b[0;34m\u001b[0m\u001b[0m\n\u001b[0m\u001b[1;32m   1131\u001b[0m         \u001b[0;31m# Do not call functions when jit is used\u001b[0m\u001b[0;34m\u001b[0m\u001b[0;34m\u001b[0m\u001b[0;34m\u001b[0m\u001b[0m\n\u001b[1;32m   1132\u001b[0m         \u001b[0mfull_backward_hooks\u001b[0m\u001b[0;34m,\u001b[0m \u001b[0mnon_full_backward_hooks\u001b[0m \u001b[0;34m=\u001b[0m \u001b[0;34m[\u001b[0m\u001b[0;34m]\u001b[0m\u001b[0;34m,\u001b[0m \u001b[0;34m[\u001b[0m\u001b[0;34m]\u001b[0m\u001b[0;34m\u001b[0m\u001b[0;34m\u001b[0m\u001b[0m\n",
            "\u001b[0;32m<ipython-input-820-f825918d7f12>\u001b[0m in \u001b[0;36mforward\u001b[0;34m(self, x, y, z)\u001b[0m\n\u001b[1;32m    106\u001b[0m         \u001b[0mprint\u001b[0m\u001b[0;34m(\u001b[0m\u001b[0mx\u001b[0m\u001b[0;34m.\u001b[0m\u001b[0mshape\u001b[0m\u001b[0;34m,\u001b[0m \u001b[0my\u001b[0m\u001b[0;34m.\u001b[0m\u001b[0mshape\u001b[0m\u001b[0;34m,\u001b[0m \u001b[0mz\u001b[0m\u001b[0;34m.\u001b[0m\u001b[0mshape\u001b[0m\u001b[0;34m)\u001b[0m\u001b[0;34m\u001b[0m\u001b[0;34m\u001b[0m\u001b[0m\n\u001b[1;32m    107\u001b[0m         \u001b[0;31m#z = self.Conv3_4(self.Conv3_3(self.Conv3_2(self.Conv3_1(z))))\u001b[0m\u001b[0;34m\u001b[0m\u001b[0;34m\u001b[0m\u001b[0;34m\u001b[0m\u001b[0m\n\u001b[0;32m--> 108\u001b[0;31m         \u001b[0mx\u001b[0m \u001b[0;34m=\u001b[0m \u001b[0mself\u001b[0m\u001b[0;34m.\u001b[0m\u001b[0minput1\u001b[0m\u001b[0;34m(\u001b[0m\u001b[0mx\u001b[0m\u001b[0;34m.\u001b[0m\u001b[0mflatten\u001b[0m\u001b[0;34m(\u001b[0m\u001b[0mstart_dim\u001b[0m\u001b[0;34m=\u001b[0m\u001b[0;36m1\u001b[0m\u001b[0;34m)\u001b[0m\u001b[0;34m)\u001b[0m\u001b[0;34m\u001b[0m\u001b[0;34m\u001b[0m\u001b[0m\n\u001b[0m\u001b[1;32m    109\u001b[0m         \u001b[0my\u001b[0m \u001b[0;34m=\u001b[0m \u001b[0mself\u001b[0m\u001b[0;34m.\u001b[0m\u001b[0minput2\u001b[0m\u001b[0;34m(\u001b[0m\u001b[0my\u001b[0m\u001b[0;34m.\u001b[0m\u001b[0mflatten\u001b[0m\u001b[0;34m(\u001b[0m\u001b[0mstart_dim\u001b[0m\u001b[0;34m=\u001b[0m\u001b[0;36m1\u001b[0m\u001b[0;34m)\u001b[0m\u001b[0;34m)\u001b[0m\u001b[0;34m\u001b[0m\u001b[0;34m\u001b[0m\u001b[0m\n\u001b[1;32m    110\u001b[0m         \u001b[0mz\u001b[0m \u001b[0;34m=\u001b[0m \u001b[0mself\u001b[0m\u001b[0;34m.\u001b[0m\u001b[0minput3\u001b[0m\u001b[0;34m(\u001b[0m\u001b[0mz\u001b[0m\u001b[0;34m.\u001b[0m\u001b[0mflatten\u001b[0m\u001b[0;34m(\u001b[0m\u001b[0mstart_dim\u001b[0m\u001b[0;34m=\u001b[0m\u001b[0;36m1\u001b[0m\u001b[0;34m)\u001b[0m\u001b[0;34m)\u001b[0m\u001b[0;34m\u001b[0m\u001b[0;34m\u001b[0m\u001b[0m\n",
            "\u001b[0;32m/usr/local/lib/python3.7/dist-packages/torch/nn/modules/module.py\u001b[0m in \u001b[0;36m_call_impl\u001b[0;34m(self, *input, **kwargs)\u001b[0m\n\u001b[1;32m   1128\u001b[0m         if not (self._backward_hooks or self._forward_hooks or self._forward_pre_hooks or _global_backward_hooks\n\u001b[1;32m   1129\u001b[0m                 or _global_forward_hooks or _global_forward_pre_hooks):\n\u001b[0;32m-> 1130\u001b[0;31m             \u001b[0;32mreturn\u001b[0m \u001b[0mforward_call\u001b[0m\u001b[0;34m(\u001b[0m\u001b[0;34m*\u001b[0m\u001b[0minput\u001b[0m\u001b[0;34m,\u001b[0m \u001b[0;34m**\u001b[0m\u001b[0mkwargs\u001b[0m\u001b[0;34m)\u001b[0m\u001b[0;34m\u001b[0m\u001b[0;34m\u001b[0m\u001b[0m\n\u001b[0m\u001b[1;32m   1131\u001b[0m         \u001b[0;31m# Do not call functions when jit is used\u001b[0m\u001b[0;34m\u001b[0m\u001b[0;34m\u001b[0m\u001b[0;34m\u001b[0m\u001b[0m\n\u001b[1;32m   1132\u001b[0m         \u001b[0mfull_backward_hooks\u001b[0m\u001b[0;34m,\u001b[0m \u001b[0mnon_full_backward_hooks\u001b[0m \u001b[0;34m=\u001b[0m \u001b[0;34m[\u001b[0m\u001b[0;34m]\u001b[0m\u001b[0;34m,\u001b[0m \u001b[0;34m[\u001b[0m\u001b[0;34m]\u001b[0m\u001b[0;34m\u001b[0m\u001b[0;34m\u001b[0m\u001b[0m\n",
            "\u001b[0;32m/usr/local/lib/python3.7/dist-packages/torch/nn/modules/linear.py\u001b[0m in \u001b[0;36mforward\u001b[0;34m(self, input)\u001b[0m\n\u001b[1;32m    112\u001b[0m \u001b[0;34m\u001b[0m\u001b[0m\n\u001b[1;32m    113\u001b[0m     \u001b[0;32mdef\u001b[0m \u001b[0mforward\u001b[0m\u001b[0;34m(\u001b[0m\u001b[0mself\u001b[0m\u001b[0;34m,\u001b[0m \u001b[0minput\u001b[0m\u001b[0;34m:\u001b[0m \u001b[0mTensor\u001b[0m\u001b[0;34m)\u001b[0m \u001b[0;34m->\u001b[0m \u001b[0mTensor\u001b[0m\u001b[0;34m:\u001b[0m\u001b[0;34m\u001b[0m\u001b[0;34m\u001b[0m\u001b[0m\n\u001b[0;32m--> 114\u001b[0;31m         \u001b[0;32mreturn\u001b[0m \u001b[0mF\u001b[0m\u001b[0;34m.\u001b[0m\u001b[0mlinear\u001b[0m\u001b[0;34m(\u001b[0m\u001b[0minput\u001b[0m\u001b[0;34m,\u001b[0m \u001b[0mself\u001b[0m\u001b[0;34m.\u001b[0m\u001b[0mweight\u001b[0m\u001b[0;34m,\u001b[0m \u001b[0mself\u001b[0m\u001b[0;34m.\u001b[0m\u001b[0mbias\u001b[0m\u001b[0;34m)\u001b[0m\u001b[0;34m\u001b[0m\u001b[0;34m\u001b[0m\u001b[0m\n\u001b[0m\u001b[1;32m    115\u001b[0m \u001b[0;34m\u001b[0m\u001b[0m\n\u001b[1;32m    116\u001b[0m     \u001b[0;32mdef\u001b[0m \u001b[0mextra_repr\u001b[0m\u001b[0;34m(\u001b[0m\u001b[0mself\u001b[0m\u001b[0;34m)\u001b[0m \u001b[0;34m->\u001b[0m \u001b[0mstr\u001b[0m\u001b[0;34m:\u001b[0m\u001b[0;34m\u001b[0m\u001b[0;34m\u001b[0m\u001b[0m\n",
            "\u001b[0;31mRuntimeError\u001b[0m: mat1 and mat2 shapes cannot be multiplied (16x80 and 16x13)"
          ]
        }
      ],
      "source": [
        "predicts = []\n",
        "real = []\n",
        "for i, (vdata,vlabels) in enumerate(dataloaders['test']):\n",
        "        vdata0,vdata1,vdata2 = vdata\n",
        "        voutputs = heh(vdata0.float(),vdata1.float(),vdata2.float())\n",
        "        vloss = loss_fn(voutputs.squeeze(), vlabels)\n",
        "        pred = voutputs > 0.5\n",
        "        pred = 1 * pred\n",
        "        running_vloss += vloss\n",
        "        for i in pred:\n",
        "            predicts.append(i.item())\n",
        "        for i in vlabels:\n",
        "            real.append(i.item())\n",
        "\n",
        "from sklearn.metrics import accuracy_score"
      ]
    },
    {
      "cell_type": "code",
      "execution_count": null,
      "id": "502489d8",
      "metadata": {
        "id": "502489d8",
        "outputId": "1418dca9-4063-43f5-c5f9-d78319d8a020"
      },
      "outputs": [
        {
          "ename": "NameError",
          "evalue": "name 'accuracy_score' is not defined",
          "output_type": "error",
          "traceback": [
            "\u001b[1;31m---------------------------------------------------------------------------\u001b[0m",
            "\u001b[1;31mNameError\u001b[0m                                 Traceback (most recent call last)",
            "Cell \u001b[1;32mIn [4], line 1\u001b[0m\n\u001b[1;32m----> 1\u001b[0m \u001b[38;5;28mprint\u001b[39m(\u001b[43maccuracy_score\u001b[49m(real,predicts))\n",
            "\u001b[1;31mNameError\u001b[0m: name 'accuracy_score' is not defined"
          ]
        }
      ],
      "source": [
        "print(accuracy_score(real,predicts))"
      ]
    },
    {
      "cell_type": "code",
      "execution_count": null,
      "id": "0b44b784",
      "metadata": {
        "id": "0b44b784"
      },
      "outputs": [],
      "source": [
        "import matplotlib.pyplot as plt"
      ]
    },
    {
      "cell_type": "code",
      "execution_count": null,
      "id": "83335f3b",
      "metadata": {
        "id": "83335f3b",
        "outputId": "c1e1984a-a935-4edb-dd87-b655bf8c78f6"
      },
      "outputs": [
        {
          "ename": "NameError",
          "evalue": "name 'train_loss' is not defined",
          "output_type": "error",
          "traceback": [
            "\u001b[1;31m---------------------------------------------------------------------------\u001b[0m",
            "\u001b[1;31mNameError\u001b[0m                                 Traceback (most recent call last)",
            "Cell \u001b[1;32mIn [3], line 1\u001b[0m\n\u001b[1;32m----> 1\u001b[0m plt\u001b[38;5;241m.\u001b[39mplot(\u001b[43mtrain_loss\u001b[49m)\n\u001b[0;32m      2\u001b[0m plt\u001b[38;5;241m.\u001b[39mplot([i\u001b[38;5;241m.\u001b[39mitem() \u001b[38;5;28;01mfor\u001b[39;00m i \u001b[38;5;129;01min\u001b[39;00m val_loss])\n",
            "\u001b[1;31mNameError\u001b[0m: name 'train_loss' is not defined"
          ]
        }
      ],
      "source": [
        "plt.plot(train_loss)\n",
        "plt.plot([i.item() for i in val_loss])"
      ]
    },
    {
      "cell_type": "code",
      "execution_count": null,
      "id": "1ecfc876",
      "metadata": {
        "id": "1ecfc876",
        "outputId": "6e5a3483-400d-4ff3-b395-89430360d596"
      },
      "outputs": [
        {
          "data": {
            "text/plain": [
              "torch.Size([16, 3, 96])"
            ]
          },
          "execution_count": 208,
          "metadata": {},
          "output_type": "execute_result"
        }
      ],
      "source": [
        "x.shape"
      ]
    },
    {
      "cell_type": "code",
      "execution_count": null,
      "id": "a15b38a0",
      "metadata": {
        "id": "a15b38a0",
        "outputId": "0c0c7c08-000d-464b-ceaf-b61804f0f1c3"
      },
      "outputs": [
        {
          "data": {
            "text/plain": [
              "tensor([[68.4402],\n",
              "        [30.6635],\n",
              "        [83.9842],\n",
              "        [44.9176],\n",
              "        [ 8.6349],\n",
              "        [60.6056],\n",
              "        [26.8921],\n",
              "        [82.1534],\n",
              "        [92.0675],\n",
              "        [ 2.8208],\n",
              "        [29.8800],\n",
              "        [90.6870],\n",
              "        [19.5123],\n",
              "        [15.8497],\n",
              "        [86.6526],\n",
              "        [59.0711]], grad_fn=<AddmmBackward0>)"
            ]
          },
          "execution_count": 209,
          "metadata": {},
          "output_type": "execute_result"
        }
      ],
      "source": [
        "heh(x.float(),y.float(),z.float())"
      ]
    },
    {
      "cell_type": "code",
      "execution_count": null,
      "id": "9ef2e9bb",
      "metadata": {
        "id": "9ef2e9bb"
      },
      "outputs": [],
      "source": []
    },
    {
      "cell_type": "code",
      "execution_count": null,
      "id": "612a9af2",
      "metadata": {
        "id": "612a9af2"
      },
      "outputs": [],
      "source": []
    }
  ],
  "metadata": {
    "kernelspec": {
      "display_name": "Python 3 (ipykernel)",
      "language": "python",
      "name": "python3"
    },
    "language_info": {
      "codemirror_mode": {
        "name": "ipython",
        "version": 3
      },
      "file_extension": ".py",
      "mimetype": "text/x-python",
      "name": "python",
      "nbconvert_exporter": "python",
      "pygments_lexer": "ipython3",
      "version": "3.9.7"
    },
    "colab": {
      "provenance": [],
      "collapsed_sections": []
    },
    "accelerator": "GPU",
    "gpuClass": "standard"
  },
  "nbformat": 4,
  "nbformat_minor": 5
}