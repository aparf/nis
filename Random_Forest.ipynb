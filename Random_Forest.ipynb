{
  "cells": [
    {
      "cell_type": "markdown",
      "source": [
        "## Random Forest Classifier for Particles Showers Classification##"
      ],
      "metadata": {
        "id": "7rpZ2AbOYCA7"
      },
      "id": "7rpZ2AbOYCA7"
    },
    {
      "cell_type": "markdown",
      "source": [
        "Random forest classifiers are a powerful machine learning techniques. It has been previously used in calorimeter data classification and regression. In this notebook, we provide an example of how it can be used in our task, and what results is is able to achieve. "
      ],
      "metadata": {
        "id": "W2Zc2K_AYPUs"
      },
      "id": "W2Zc2K_AYPUs"
    },
    {
      "cell_type": "markdown",
      "source": [
        "# Data loading and preprocessing"
      ],
      "metadata": {
        "id": "0sBw-d0dYyXC"
      },
      "id": "0sBw-d0dYyXC"
    },
    {
      "cell_type": "code",
      "execution_count": null,
      "id": "36bbb8d6",
      "metadata": {
        "colab": {
          "base_uri": "https://localhost:8080/"
        },
        "id": "36bbb8d6",
        "outputId": "5b55a743-25df-4c9f-e152-5c07c6b90401"
      },
      "outputs": [
        {
          "output_type": "stream",
          "name": "stdout",
          "text": [
            "Looking in indexes: https://pypi.org/simple, https://us-python.pkg.dev/colab-wheels/public/simple/\n",
            "Requirement already satisfied: h5py in /usr/local/lib/python3.7/dist-packages (3.1.0)\n",
            "Requirement already satisfied: numpy>=1.14.5 in /usr/local/lib/python3.7/dist-packages (from h5py) (1.21.6)\n",
            "Requirement already satisfied: cached-property in /usr/local/lib/python3.7/dist-packages (from h5py) (1.5.2)\n"
          ]
        }
      ],
      "source": [
        "!pip install h5py"
      ]
    },
    {
      "cell_type": "code",
      "source": [
        "import torch\n",
        "device = torch.device(\"cuda\" if torch.cuda.is_available() else \"cpu\")"
      ],
      "metadata": {
        "id": "takc9-S6ekbZ"
      },
      "id": "takc9-S6ekbZ",
      "execution_count": null,
      "outputs": []
    },
    {
      "cell_type": "code",
      "source": [
        "from google.colab import drive\n",
        "import time, math, copy\n",
        "from tqdm import tqdm\n",
        "drive.mount('/content/gdrive')"
      ],
      "metadata": {
        "colab": {
          "base_uri": "https://localhost:8080/"
        },
        "id": "uZC63Lf4dhjv",
        "outputId": "da7e2e20-6f6f-4c9c-d25d-7ffe90222429"
      },
      "id": "uZC63Lf4dhjv",
      "execution_count": null,
      "outputs": [
        {
          "output_type": "stream",
          "name": "stdout",
          "text": [
            "Drive already mounted at /content/gdrive; to attempt to forcibly remount, call drive.mount(\"/content/gdrive\", force_remount=True).\n"
          ]
        }
      ]
    },
    {
      "cell_type": "code",
      "execution_count": null,
      "id": "dd1cc6c0",
      "metadata": {
        "id": "dd1cc6c0"
      },
      "outputs": [],
      "source": [
        "import h5py\n",
        "import numpy as np"
      ]
    },
    {
      "cell_type": "code",
      "execution_count": null,
      "id": "c49d1bdc",
      "metadata": {
        "id": "c49d1bdc"
      },
      "outputs": [],
      "source": [
        "f = h5py.File(\"/content/gdrive/MyDrive/gamma.hdf5\", 'r') "
      ]
    },
    {
      "cell_type": "code",
      "execution_count": null,
      "id": "ca48baa5",
      "metadata": {
        "id": "ca48baa5"
      },
      "outputs": [],
      "source": [
        "with h5py.File(\"/content/gdrive/MyDrive/gamma.hdf5\", 'r') as f:\n",
        "   energy = f['energy'][:]\n",
        "   layer_0 = f['layer_0'][:]\n",
        "   layer_1 = f['layer_1'][:]\n",
        "   layer_2 = f['layer_2'][:]\n",
        "   overflow = f['overflow'][:]"
      ]
    },
    {
      "cell_type": "code",
      "execution_count": null,
      "id": "79729d3e",
      "metadata": {
        "id": "79729d3e"
      },
      "outputs": [],
      "source": [
        "f = h5py.File(\"/content/gdrive/MyDrive/eplus.hdf5\", 'r') "
      ]
    },
    {
      "cell_type": "code",
      "execution_count": null,
      "id": "fc509207",
      "metadata": {
        "id": "fc509207"
      },
      "outputs": [],
      "source": [
        "with h5py.File(\"/content/gdrive/MyDrive/eplus.hdf5\", 'r') as f:\n",
        "   energy_ep = f['energy'][:]\n",
        "   layer_0_ep = f['layer_0'][:]\n",
        "   layer_1_ep = f['layer_1'][:]\n",
        "   layer_2_ep = f['layer_2'][:]\n",
        "   overflow_ep = f['overflow'][:]"
      ]
    },
    {
      "cell_type": "markdown",
      "source": [
        "We are transformind the data into tabular data, because random forests cannot handle image (2 dimensional) data"
      ],
      "metadata": {
        "id": "KYpg24p8gkyg"
      },
      "id": "KYpg24p8gkyg"
    },
    {
      "cell_type": "code",
      "source": [
        "layer_0_flat = layer_0.reshape([100000,96*3])\n",
        "layer_1_flat = layer_1.reshape([100000,12*12])\n",
        "layer_2_flat = layer_2.reshape([100000,12*6])\n",
        "\n",
        "layer_0_ep_flat = layer_0_ep.reshape([100000,96*3])\n",
        "layer_1_ep_flat = layer_1_ep.reshape([100000,12*12])\n",
        "layer_2_ep_flat = layer_2_ep.reshape([100000,12*6])\n",
        "\n",
        "gam_data = np.hstack((layer_0_flat,layer_1_flat,layer_2_flat))\n",
        "ep_data = np.hstack((layer_0_ep_flat,layer_1_ep_flat,layer_2_ep_flat))\n",
        "labels = np.hstack((np.ones(100000), np.zeros(100000)))"
      ],
      "metadata": {
        "id": "vflC0A2qUGpC"
      },
      "id": "vflC0A2qUGpC",
      "execution_count": null,
      "outputs": []
    },
    {
      "cell_type": "code",
      "source": [
        "tota = np.vstack((gam_data,ep_data))"
      ],
      "metadata": {
        "id": "KwG488UUV0DI"
      },
      "id": "KwG488UUV0DI",
      "execution_count": null,
      "outputs": []
    },
    {
      "cell_type": "code",
      "source": [
        "from sklearn.model_selection import train_test_split\n",
        "X_train, X_test, y_train, y_test = train_test_split(\n",
        "    tota, labels, test_size=0.33, random_state=42)"
      ],
      "metadata": {
        "id": "VS0-_BoeWHuQ"
      },
      "id": "VS0-_BoeWHuQ",
      "execution_count": null,
      "outputs": []
    },
    {
      "cell_type": "code",
      "source": [
        "indeces = np.arange(134000)\n",
        "indeces_c = np.random.choice(indeces, 50000)"
      ],
      "metadata": {
        "id": "C8F5Zy-UaFhL"
      },
      "id": "C8F5Zy-UaFhL",
      "execution_count": null,
      "outputs": []
    },
    {
      "cell_type": "code",
      "source": [
        "len(X_train)"
      ],
      "metadata": {
        "id": "9TypYJjnaDTp",
        "colab": {
          "base_uri": "https://localhost:8080/"
        },
        "outputId": "45f846cb-353d-4c9b-c402-cc45b3099547"
      },
      "id": "9TypYJjnaDTp",
      "execution_count": null,
      "outputs": [
        {
          "output_type": "execute_result",
          "data": {
            "text/plain": [
              "134000"
            ]
          },
          "metadata": {},
          "execution_count": 12
        }
      ]
    },
    {
      "cell_type": "code",
      "source": [
        "from sklearn.ensemble import RandomForestClassifier\n",
        "from sklearn.svm import SVC\n",
        "\n",
        "clf = RandomForestClassifier()\n",
        "\n",
        "clf.fit(X_train, y_train)\n",
        "\n",
        "print(clf.score(X_test,y_test))"
      ],
      "metadata": {
        "id": "HYgnMerXWSnh",
        "colab": {
          "base_uri": "https://localhost:8080/"
        },
        "outputId": "a8397803-4de3-43f3-8fc2-1c8fdb8e8063"
      },
      "id": "HYgnMerXWSnh",
      "execution_count": null,
      "outputs": [
        {
          "output_type": "stream",
          "name": "stdout",
          "text": [
            "0.6604242424242425\n"
          ]
        }
      ]
    },
    {
      "cell_type": "code",
      "source": [
        "from sklearn.metrics import classification_report\n",
        "print(classification_report(y_test, clf.predict(X_test)))"
      ],
      "metadata": {
        "colab": {
          "base_uri": "https://localhost:8080/"
        },
        "id": "uThHikxHfRca",
        "outputId": "40433821-da6b-4ef1-9908-44142729115a"
      },
      "id": "uThHikxHfRca",
      "execution_count": null,
      "outputs": [
        {
          "output_type": "stream",
          "name": "stdout",
          "text": [
            "              precision    recall  f1-score   support\n",
            "\n",
            "         0.0       0.62      0.82      0.71     33187\n",
            "         1.0       0.73      0.50      0.59     32813\n",
            "\n",
            "    accuracy                           0.66     66000\n",
            "   macro avg       0.68      0.66      0.65     66000\n",
            "weighted avg       0.68      0.66      0.65     66000\n",
            "\n"
          ]
        }
      ]
    },
    {
      "cell_type": "markdown",
      "source": [
        "Classification report suggests overfitting to the 0-th class (e-plus showers), as the recall for it is 0.82, while for the other class is 0.5"
      ],
      "metadata": {
        "id": "9s74ITPFfhZu"
      },
      "id": "9s74ITPFfhZu"
    },
    {
      "cell_type": "code",
      "source": [
        "from sklearn.metrics import RocCurveDisplay\n",
        "efc_disp = RocCurveDisplay.from_estimator(clf, X_test, y_test)"
      ],
      "metadata": {
        "colab": {
          "base_uri": "https://localhost:8080/",
          "height": 279
        },
        "id": "iFQp_zrCfKjC",
        "outputId": "f7820e16-be0c-4ccb-ccbf-888651394b85"
      },
      "id": "iFQp_zrCfKjC",
      "execution_count": null,
      "outputs": [
        {
          "output_type": "display_data",
          "data": {
            "text/plain": [
              "<Figure size 432x288 with 1 Axes>"
            ],
            "image/png": "[encoded data removed]"
          },
          "metadata": {
            "needs_background": "light"
          }
        }
      ]
    }
  ],
  "metadata": {
    "kernelspec": {
      "display_name": "Python 3 (ipykernel)",
      "language": "python",
      "name": "python3"
    },
    "language_info": {
      "codemirror_mode": {
        "name": "ipython",
        "version": 3
      },
      "file_extension": ".py",
      "mimetype": "text/x-python",
      "name": "python",
      "nbconvert_exporter": "python",
      "pygments_lexer": "ipython3",
      "version": "3.9.7"
    },
    "colab": {
      "provenance": [],
      "collapsed_sections": [],
      "machine_shape": "hm"
    },
    "gpuClass": "premium"
  },
  "nbformat": 4,
  "nbformat_minor": 5
}